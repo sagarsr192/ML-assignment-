{
 "cells": [
  {
   "cell_type": "code",
   "execution_count": 2,
   "id": "a4aade81-7886-41d4-ba52-4cf3af4999ce",
   "metadata": {},
   "outputs": [
    {
     "name": "stdin",
     "output_type": "stream",
     "text": [
      "Enter number of rows for Matrix A:  2\n",
      "Enter number of columns for Matrix A:  2\n"
     ]
    },
    {
     "name": "stdout",
     "output_type": "stream",
     "text": [
      "Enter elements row by row for Matrix A:\n"
     ]
    },
    {
     "name": "stdin",
     "output_type": "stream",
     "text": [
      "Row 1:  2 7\n",
      "Row 2:  3 5\n",
      "Enter number of rows for Matrix B:  2\n",
      "Enter number of columns for Matrix B:  2\n"
     ]
    },
    {
     "name": "stdout",
     "output_type": "stream",
     "text": [
      "Enter elements row by row for Matrix B:\n"
     ]
    },
    {
     "name": "stdin",
     "output_type": "stream",
     "text": [
      "Row 1:  9 4\n",
      "Row 2:  4 7\n"
     ]
    },
    {
     "name": "stdout",
     "output_type": "stream",
     "text": [
      "\n",
      "Matrix A:\n",
      " [[2. 7.]\n",
      " [3. 5.]]\n",
      "\n",
      "Matrix B:\n",
      " [[9. 4.]\n",
      " [4. 7.]]\n",
      "\n",
      "Result of A x B:\n",
      " [[46. 57.]\n",
      " [47. 47.]]\n"
     ]
    }
   ],
   "source": [
    "import numpy as np\n",
    "\n",
    "def input_matrix(name):\n",
    "    rows = int(input(f\"Enter number of rows for {name}: \"))\n",
    "    cols = int(input(f\"Enter number of columns for {name}: \"))\n",
    "    \n",
    "    print(f\"Enter elements row by row for {name}:\")\n",
    "    elements = []\n",
    "    for i in range(rows):\n",
    "        row = list(map(float, input(f\"Row {i+1}: \").split()))\n",
    "        elements.append(row)\n",
    "    \n",
    "    return np.array(elements)\n",
    "\n",
    "def matrix_multiplication(A, B):\n",
    "    if A.shape[1] != B.shape[0]:\n",
    "        raise ValueError(\"Matrix multiplication not possible: Columns of A must equal rows of B\")\n",
    "    return np.dot(A, B)\n",
    "\n",
    "A = input_matrix(\"Matrix A\")\n",
    "B = input_matrix(\"Matrix B\")\n",
    "try:\n",
    "    result = matrix_multiplication(A, B)\n",
    "    print(\"\\nMatrix A:\\n\", A)\n",
    "    print(\"\\nMatrix B:\\n\", B)\n",
    "    print(\"\\nResult of A x B:\\n\", result)\n",
    "except ValueError as e:\n",
    "    print(\"\\nError:\", e)\n"
   ]
  },
  {
   "cell_type": "code",
   "execution_count": 3,
   "id": "f8f24237-350b-4c60-baf4-2c44bc6c9f70",
   "metadata": {},
   "outputs": [
    {
     "name": "stdout",
     "output_type": "stream",
     "text": [
      "Original Data:\n",
      " 0     50\n",
      "1     20\n",
      "2     30\n",
      "3     80\n",
      "4    100\n",
      "dtype: int64\n",
      "\n",
      "Min-Max Scaled Data:\n",
      " 0    0.375\n",
      "1    0.000\n",
      "2    0.125\n",
      "3    0.750\n",
      "4    1.000\n",
      "dtype: float64\n",
      "\n",
      "Standardized Data:\n",
      " 0   -0.178489\n",
      "1   -1.070935\n",
      "2   -0.773453\n",
      "3    0.713957\n",
      "4    1.308921\n",
      "dtype: float64\n"
     ]
    }
   ],
   "source": [
    "import pandas as pd\n",
    "data = pd.Series([50, 20, 30, 80, 100])\n",
    "print(\"Original Data:\\n\", data)\n",
    "\n",
    "# Min-Max Scaling\n",
    "min_max_scaled = (data - data.min()) / (data.max() - data.min())\n",
    "print(\"\\nMin-Max Scaled Data:\\n\", min_max_scaled)\n",
    "\n",
    "# Standardization (Z-score)\n",
    "standardized = (data - data.mean()) / data.std()\n",
    "print(\"\\nStandardized Data:\\n\", standardized)\n"
   ]
  },
  {
   "cell_type": "code",
   "execution_count": null,
   "id": "14f92435-c6ca-45d2-aa97-54585d7302bb",
   "metadata": {},
   "outputs": [],
   "source": []
  }
 ],
 "metadata": {
  "kernelspec": {
   "display_name": "Python 3 (ipykernel)",
   "language": "python",
   "name": "python3"
  },
  "language_info": {
   "codemirror_mode": {
    "name": "ipython",
    "version": 3
   },
   "file_extension": ".py",
   "mimetype": "text/x-python",
   "name": "python",
   "nbconvert_exporter": "python",
   "pygments_lexer": "ipython3",
   "version": "3.12.4"
  }
 },
 "nbformat": 4,
 "nbformat_minor": 5
}
