{
 "cells": [
  {
   "cell_type": "code",
   "execution_count": 27,
   "id": "82dfaa91-924f-4ab8-98dc-88b46bb50f3b",
   "metadata": {},
   "outputs": [],
   "source": [
    "#Loads the dataset from the CSV file\n",
    "import pandas as pd\n",
    "data=pd.read_csv(r\"C:\\Users\\DELL\\OneDrive\\Documents\\3rd sem ppts\\houseing.csv\")"
   ]
  },
  {
   "cell_type": "code",
   "execution_count": 28,
   "id": "b0a25bfe-bb07-4a7f-95b3-b613fe45079b",
   "metadata": {},
   "outputs": [
    {
     "data": {
      "text/html": [
       "<div>\n",
       "<style scoped>\n",
       "    .dataframe tbody tr th:only-of-type {\n",
       "        vertical-align: middle;\n",
       "    }\n",
       "\n",
       "    .dataframe tbody tr th {\n",
       "        vertical-align: top;\n",
       "    }\n",
       "\n",
       "    .dataframe thead th {\n",
       "        text-align: right;\n",
       "    }\n",
       "</style>\n",
       "<table border=\"1\" class=\"dataframe\">\n",
       "  <thead>\n",
       "    <tr style=\"text-align: right;\">\n",
       "      <th></th>\n",
       "      <th>TotalRoom</th>\n",
       "      <th>YearBuilt</th>\n",
       "      <th>SalePrice</th>\n",
       "      <th>Unnamed: 3</th>\n",
       "    </tr>\n",
       "  </thead>\n",
       "  <tbody>\n",
       "    <tr>\n",
       "      <th>0</th>\n",
       "      <td>7.0</td>\n",
       "      <td>2003</td>\n",
       "      <td>789000.0</td>\n",
       "      <td>NaN</td>\n",
       "    </tr>\n",
       "    <tr>\n",
       "      <th>1</th>\n",
       "      <td>2.0</td>\n",
       "      <td>1976</td>\n",
       "      <td>123465.0</td>\n",
       "      <td>NaN</td>\n",
       "    </tr>\n",
       "    <tr>\n",
       "      <th>2</th>\n",
       "      <td>4.0</td>\n",
       "      <td>2001</td>\n",
       "      <td>200000.0</td>\n",
       "      <td>NaN</td>\n",
       "    </tr>\n",
       "    <tr>\n",
       "      <th>3</th>\n",
       "      <td>NaN</td>\n",
       "      <td>1915</td>\n",
       "      <td>181500.0</td>\n",
       "      <td>NaN</td>\n",
       "    </tr>\n",
       "    <tr>\n",
       "      <th>4</th>\n",
       "      <td>7.0</td>\n",
       "      <td>1931</td>\n",
       "      <td>NaN</td>\n",
       "      <td>NaN</td>\n",
       "    </tr>\n",
       "  </tbody>\n",
       "</table>\n",
       "</div>"
      ],
      "text/plain": [
       "   TotalRoom  YearBuilt  SalePrice  Unnamed: 3\n",
       "0        7.0       2003   789000.0         NaN\n",
       "1        2.0       1976   123465.0         NaN\n",
       "2        4.0       2001   200000.0         NaN\n",
       "3        NaN       1915   181500.0         NaN\n",
       "4        7.0       1931        NaN         NaN"
      ]
     },
     "execution_count": 28,
     "metadata": {},
     "output_type": "execute_result"
    }
   ],
   "source": [
    "data.head()"
   ]
  },
  {
   "cell_type": "code",
   "execution_count": 30,
   "id": "689db295-f0b9-4cd9-85a0-2c90b978eab8",
   "metadata": {},
   "outputs": [
    {
     "name": "stdout",
     "output_type": "stream",
     "text": [
      "0    7\n",
      "1    8\n",
      "2    4\n",
      "3    3\n",
      "4    2\n",
      "Name: rooms, dtype: int64\n"
     ]
    }
   ],
   "source": [
    "data = [7, 8, 4 , 3 ,2]\n",
    "House_counts = pd.Series(data, name='rooms')\n",
    "print(House_counts)"
   ]
  },
  {
   "cell_type": "code",
   "execution_count": 31,
   "id": "5adc50c7-f102-4e9b-834e-48c33ed6f5c3",
   "metadata": {},
   "outputs": [
    {
     "name": "stdout",
     "output_type": "stream",
     "text": [
      "   0     1\n",
      "0  7  2002\n",
      "1  8  2003\n",
      "2  4  2000\n",
      "3  3  1953\n",
      "4  2  1976\n"
     ]
    }
   ],
   "source": [
    "YearBuilt = [2002, 2003, 2000, 1953, 1976]\n",
    "joined_data = list(zip(data, YearBuilt))\n",
    "activity_df = pd.DataFrame(joined_data)\n",
    "print(activity_df)"
   ]
  },
  {
   "cell_type": "code",
   "execution_count": 32,
   "id": "a9d2fce8-615d-482a-9dd2-ce19b4017988",
   "metadata": {},
   "outputs": [
    {
     "name": "stdout",
     "output_type": "stream",
     "text": [
      "   0     1\n",
      "0  7  2002\n",
      "1  8  2003\n",
      "2  4  2000\n",
      "3  3  1953\n",
      "4  2  1976\n"
     ]
    }
   ],
   "source": [
    "YearBuilt = [2002, 2003, 2000, 1953, 1976]\n",
    "joined_data = list(zip(data, YearBuilt))\n",
    "activity_df = pd.DataFrame(joined_data)\n",
    "print(activity_df)"
   ]
  },
  {
   "cell_type": "code",
   "execution_count": 37,
   "id": "875716b7-154a-4895-a022-7d82e792434c",
   "metadata": {},
   "outputs": [
    {
     "name": "stdout",
     "output_type": "stream",
     "text": [
      "            data  YearBuilt\n",
      "2020-03-29     7       2002\n",
      "2020-03-30     8       2003\n",
      "2020-03-31     4       2000\n",
      "2020-04-01     3       1953\n",
      "2020-04-02     2       1976\n"
     ]
    }
   ],
   "source": [
    "activity_df = pd.DataFrame(joined_data,\n",
    "               index=pd.date_range('20200329', \n",
    "               periods=5),\n",
    "               columns=['data','YearBuilt'])\n",
    "print(activity_df)"
   ]
  },
  {
   "cell_type": "code",
   "execution_count": 40,
   "id": "0bba6e71-33a6-4405-b870-07c88817e2ab",
   "metadata": {},
   "outputs": [
    {
     "data": {
      "text/html": [
       "<div>\n",
       "<style scoped>\n",
       "    .dataframe tbody tr th:only-of-type {\n",
       "        vertical-align: middle;\n",
       "    }\n",
       "\n",
       "    .dataframe tbody tr th {\n",
       "        vertical-align: top;\n",
       "    }\n",
       "\n",
       "    .dataframe thead th {\n",
       "        text-align: right;\n",
       "    }\n",
       "</style>\n",
       "<table border=\"1\" class=\"dataframe\">\n",
       "  <thead>\n",
       "    <tr style=\"text-align: right;\">\n",
       "      <th></th>\n",
       "      <th>data</th>\n",
       "      <th>YearBuilt</th>\n",
       "    </tr>\n",
       "  </thead>\n",
       "  <tbody>\n",
       "    <tr>\n",
       "      <th>2020-04-01</th>\n",
       "      <td>3</td>\n",
       "      <td>1953</td>\n",
       "    </tr>\n",
       "    <tr>\n",
       "      <th>2020-04-02</th>\n",
       "      <td>2</td>\n",
       "      <td>1976</td>\n",
       "    </tr>\n",
       "  </tbody>\n",
       "</table>\n",
       "</div>"
      ],
      "text/plain": [
       "            data  YearBuilt\n",
       "2020-04-01     3       1953\n",
       "2020-04-02     2       1976"
      ]
     },
     "execution_count": 40,
     "metadata": {},
     "output_type": "execute_result"
    }
   ],
   "source": [
    "activity_df.iloc[3:5]"
   ]
  },
  {
   "cell_type": "code",
   "execution_count": 41,
   "id": "ccd03e2d-c4b0-4b7a-b360-086b38fea01b",
   "metadata": {},
   "outputs": [
    {
     "data": {
      "text/plain": [
       "2020-03-29    7\n",
       "2020-03-30    8\n",
       "2020-03-31    4\n",
       "2020-04-01    3\n",
       "2020-04-02    2\n",
       "Freq: D, Name: data, dtype: int64"
      ]
     },
     "execution_count": 41,
     "metadata": {},
     "output_type": "execute_result"
    }
   ],
   "source": [
    "activity_df[\"data\"]"
   ]
  },
  {
   "cell_type": "code",
   "execution_count": 42,
   "id": "cbb6213b-24a3-4d1b-82f2-a14c52e376d9",
   "metadata": {},
   "outputs": [
    {
     "data": {
      "text/plain": [
       "2020-03-29    2002\n",
       "2020-03-30    2003\n",
       "2020-03-31    2000\n",
       "2020-04-01    1953\n",
       "2020-04-02    1976\n",
       "Freq: D, Name: YearBuilt, dtype: int64"
      ]
     },
     "execution_count": 42,
     "metadata": {},
     "output_type": "execute_result"
    }
   ],
   "source": [
    "activity_df[\"YearBuilt\"]"
   ]
  },
  {
   "cell_type": "code",
   "execution_count": 45,
   "id": "01374d97-821d-446d-a3dc-b06d4c3f4fb2",
   "metadata": {},
   "outputs": [
    {
     "name": "stdout",
     "output_type": "stream",
     "text": [
      "8\n"
     ]
    }
   ],
   "source": [
    "print(House_counts[1])"
   ]
  },
  {
   "cell_type": "code",
   "execution_count": 46,
   "id": "5fc09251-b2d4-429b-b741-0cd48a530aff",
   "metadata": {},
   "outputs": [
    {
     "data": {
      "text/plain": [
       "data            4\n",
       "YearBuilt    2000\n",
       "Name: 2020-03-31 00:00:00, dtype: int64"
      ]
     },
     "execution_count": 46,
     "metadata": {},
     "output_type": "execute_result"
    }
   ],
   "source": [
    "activity_df.iloc[-3]"
   ]
  },
  {
   "cell_type": "code",
   "execution_count": 49,
   "id": "99790148-00c6-44d8-838e-868df9bd2c52",
   "metadata": {},
   "outputs": [
    {
     "ename": "TypeError",
     "evalue": "'DataFrame' object is not callable",
     "output_type": "error",
     "traceback": [
      "\u001b[1;31m---------------------------------------------------------------------------\u001b[0m",
      "\u001b[1;31mTypeError\u001b[0m                                 Traceback (most recent call last)",
      "Cell \u001b[1;32mIn[49], line 1\u001b[0m\n\u001b[1;32m----> 1\u001b[0m num_cols \u001b[38;5;241m=\u001b[39m activity_df(include\u001b[38;5;241m=\u001b[39m[\u001b[38;5;124m'\u001b[39m\u001b[38;5;124mfloat64\u001b[39m\u001b[38;5;124m'\u001b[39m, \u001b[38;5;124m'\u001b[39m\u001b[38;5;124mint64\u001b[39m\u001b[38;5;124m'\u001b[39m])\u001b[38;5;241m.\u001b[39mcolumns\n\u001b[0;32m      2\u001b[0m \u001b[38;5;28;01mfor\u001b[39;00m col \u001b[38;5;129;01min\u001b[39;00m num_cols:\n\u001b[0;32m      3\u001b[0m     activity_df[col] \u001b[38;5;241m=\u001b[39m activity_df[col]\u001b[38;5;241m.\u001b[39mfillna(activity_df[col]\u001b[38;5;241m.\u001b[39mmedian())\n",
      "\u001b[1;31mTypeError\u001b[0m: 'DataFrame' object is not callable"
     ]
    }
   ],
   "source": []
  },
  {
   "cell_type": "code",
   "execution_count": 57,
   "id": "ce94e846-92e2-48be-8ac0-216fccc1c561",
   "metadata": {},
   "outputs": [],
   "source": [
    "import pandas as pd\n",
    "df=pd.read_csv(r\"C:\\Users\\DELL\\OneDrive\\Documents\\3rd sem ppts\\houseing.csv\")"
   ]
  },
  {
   "cell_type": "code",
   "execution_count": 58,
   "id": "c4ee6f8b-da60-44f8-ac0b-bc4d30c3688a",
   "metadata": {},
   "outputs": [
    {
     "data": {
      "text/html": [
       "<div>\n",
       "<style scoped>\n",
       "    .dataframe tbody tr th:only-of-type {\n",
       "        vertical-align: middle;\n",
       "    }\n",
       "\n",
       "    .dataframe tbody tr th {\n",
       "        vertical-align: top;\n",
       "    }\n",
       "\n",
       "    .dataframe thead th {\n",
       "        text-align: right;\n",
       "    }\n",
       "</style>\n",
       "<table border=\"1\" class=\"dataframe\">\n",
       "  <thead>\n",
       "    <tr style=\"text-align: right;\">\n",
       "      <th></th>\n",
       "      <th>TotalRoom</th>\n",
       "      <th>YearBuilt</th>\n",
       "      <th>SalePrice</th>\n",
       "      <th>Unnamed: 3</th>\n",
       "    </tr>\n",
       "  </thead>\n",
       "  <tbody>\n",
       "    <tr>\n",
       "      <th>0</th>\n",
       "      <td>7.0</td>\n",
       "      <td>2003</td>\n",
       "      <td>789000.0</td>\n",
       "      <td>NaN</td>\n",
       "    </tr>\n",
       "    <tr>\n",
       "      <th>1</th>\n",
       "      <td>2.0</td>\n",
       "      <td>1976</td>\n",
       "      <td>123465.0</td>\n",
       "      <td>NaN</td>\n",
       "    </tr>\n",
       "    <tr>\n",
       "      <th>2</th>\n",
       "      <td>4.0</td>\n",
       "      <td>2001</td>\n",
       "      <td>200000.0</td>\n",
       "      <td>NaN</td>\n",
       "    </tr>\n",
       "    <tr>\n",
       "      <th>3</th>\n",
       "      <td>NaN</td>\n",
       "      <td>1915</td>\n",
       "      <td>181500.0</td>\n",
       "      <td>NaN</td>\n",
       "    </tr>\n",
       "    <tr>\n",
       "      <th>4</th>\n",
       "      <td>7.0</td>\n",
       "      <td>1931</td>\n",
       "      <td>NaN</td>\n",
       "      <td>NaN</td>\n",
       "    </tr>\n",
       "  </tbody>\n",
       "</table>\n",
       "</div>"
      ],
      "text/plain": [
       "   TotalRoom  YearBuilt  SalePrice  Unnamed: 3\n",
       "0        7.0       2003   789000.0         NaN\n",
       "1        2.0       1976   123465.0         NaN\n",
       "2        4.0       2001   200000.0         NaN\n",
       "3        NaN       1915   181500.0         NaN\n",
       "4        7.0       1931        NaN         NaN"
      ]
     },
     "execution_count": 58,
     "metadata": {},
     "output_type": "execute_result"
    }
   ],
   "source": [
    "data.head()"
   ]
  },
  {
   "cell_type": "code",
   "execution_count": 59,
   "id": "4dee4bc8-229e-482c-9093-c120257d1204",
   "metadata": {},
   "outputs": [
    {
     "name": "stdout",
     "output_type": "stream",
     "text": [
      "Initial Data Info:\n",
      "<class 'pandas.core.frame.DataFrame'>\n",
      "RangeIndex: 10 entries, 0 to 9\n",
      "Data columns (total 4 columns):\n",
      " #   Column      Non-Null Count  Dtype  \n",
      "---  ------      --------------  -----  \n",
      " 0   TotalRoom   7 non-null      float64\n",
      " 1   YearBuilt   10 non-null     int64  \n",
      " 2   SalePrice   9 non-null      float64\n",
      " 3   Unnamed: 3  0 non-null      float64\n",
      "dtypes: float64(3), int64(1)\n",
      "memory usage: 452.0 bytes\n",
      "None\n",
      "\n",
      "Missing Values:\n",
      " TotalRoom      3\n",
      "YearBuilt      0\n",
      "SalePrice      1\n",
      "Unnamed: 3    10\n",
      "dtype: int64\n"
     ]
    }
   ],
   "source": [
    "print(\"Initial Data Info:\")\n",
    "print(df.info())\n",
    "print(\"\\nMissing Values:\\n\", df.isnull().sum())\n"
   ]
  },
  {
   "cell_type": "code",
   "execution_count": 60,
   "id": "39f07981-9257-4b64-87a6-492de9ab30cc",
   "metadata": {},
   "outputs": [],
   "source": [
    "num_cols = df.select_dtypes(include=['float64', 'int64']).columns\n",
    "for col in num_cols:\n",
    "    df[col] = df[col].fillna(df[col].median())\n"
   ]
  },
  {
   "cell_type": "code",
   "execution_count": 62,
   "id": "6dd66df1-dd91-4a13-a782-74a31523f47d",
   "metadata": {},
   "outputs": [
    {
     "name": "stdout",
     "output_type": "stream",
     "text": [
      "\n",
      "Cleaned Data Preview:\n",
      "   TotalRoom  YearBuilt  SalePrice  Unnamed: 3\n",
      "0        7.0       2003   789000.0         NaN\n",
      "1        2.0       1976   123465.0         NaN\n",
      "2        4.0       2001   200000.0         NaN\n",
      "3        6.0       1915   181500.0         NaN\n",
      "4        7.0       1931   200000.0         NaN\n"
     ]
    }
   ],
   "source": [
    "print(\"\\nCleaned Data Preview:\")\n",
    "print(df.head())"
   ]
  },
  {
   "cell_type": "code",
   "execution_count": 68,
   "id": "1185bb20-22f9-43f6-8ba1-431d451b579e",
   "metadata": {},
   "outputs": [],
   "source": [
    "df['PricePerRoom'] = df['SalePrice'] / df['TotalRoom']\n",
    "df['HouseAge'] = 2025 - df['YearBuilt']\n",
    "df['Is_Expensive'] = (df['SalePrice'] > df['SalePrice'].median()).astype(int)"
   ]
  },
  {
   "cell_type": "code",
   "execution_count": 71,
   "id": "84ca14c8-4bbe-4f6c-aa7a-8f7af4b0655d",
   "metadata": {},
   "outputs": [],
   "source": [
    "import seaborn as sns\n",
    "sns.set(style=\"whitegrid\")"
   ]
  },
  {
   "cell_type": "code",
   "execution_count": 73,
   "id": "82333f71-bc9d-437c-b93c-82ca665829e6",
   "metadata": {},
   "outputs": [
    {
     "data": {
      "image/png": "[encoded data removed]",
      "text/plain": [
       "<Figure size 1000x600 with 1 Axes>"
      ]
     },
     "metadata": {},
     "output_type": "display_data"
    }
   ],
   "source": [
    "import matplotlib.pyplot as plt\n",
    "plt.figure(figsize=(10, 6))\n",
    "sns.histplot(df['SalePrice'], bins=30, kde=True, color='skyblue')\n",
    "plt.title(\"Distribution of Sale Price\")\n",
    "plt.xlabel(\"Sale Price\")\n",
    "plt.show()\n"
   ]
  },
  {
   "cell_type": "code",
   "execution_count": 74,
   "id": "1153b384-66cf-4ca9-917f-4fd050d73e97",
   "metadata": {},
   "outputs": [
    {
     "data": {
      "image/png": "[encoded data removed]",
      "text/plain": [
       "<Figure size 1000x600 with 1 Axes>"
      ]
     },
     "metadata": {},
     "output_type": "display_data"
    }
   ],
   "source": [
    "plt.figure(figsize=(10, 6))\n",
    "sns.scatterplot(data=df, x='HouseAge', y='SalePrice', hue='Is_Expensive', palette='coolwarm')\n",
    "plt.title(\"House Age vs Sale Price\")\n",
    "plt.xlabel(\"House Age\")\n",
    "plt.ylabel(\"Sale Price\")\n",
    "plt.show()"
   ]
  },
  {
   "cell_type": "code",
   "execution_count": null,
   "id": "72d96f14-a05e-4846-9e3b-4a70b4331bda",
   "metadata": {},
   "outputs": [],
   "source": []
  }
 ],
 "metadata": {
  "kernelspec": {
   "display_name": "Python 3 (ipykernel)",
   "language": "python",
   "name": "python3"
  },
  "language_info": {
   "codemirror_mode": {
    "name": "ipython",
    "version": 3
   },
   "file_extension": ".py",
   "mimetype": "text/x-python",
   "name": "python",
   "nbconvert_exporter": "python",
   "pygments_lexer": "ipython3",
   "version": "3.12.4"
  }
 },
 "nbformat": 4,
 "nbformat_minor": 5
}
