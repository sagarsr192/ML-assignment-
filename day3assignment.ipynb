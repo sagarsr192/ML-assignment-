{
 "cells": [
  {
   "cell_type": "code",
   "execution_count": 1,
   "id": "2993b5b8-5e04-464b-be74-65f0ea06a850",
   "metadata": {},
   "outputs": [
    {
     "name": "stdout",
     "output_type": "stream",
     "text": [
      " Coin Flip Probabilities \n",
      "P(Heads) = 0.60\n",
      "P(Tails) = 0.40\n",
      "\n",
      " Bayes' Theorem\n",
      "P(Positive) = 0.1085\n",
      "P(Disease | Positive) = 0.0876\n"
     ]
    }
   ],
   "source": [
    "import numpy as np\n",
    "heads = 60\n",
    "tails = 40\n",
    "total = heads + tails\n",
    "\n",
    "p_heads = heads / total\n",
    "p_tails = tails / total\n",
    "\n",
    "print(\" Coin Flip Probabilities \")\n",
    "print(f\"P(Heads) = {p_heads:.2f}\")\n",
    "print(f\"P(Tails) = {p_tails:.2f}\")\n",
    "\n",
    "p_disease = 0.01\n",
    "p_no_disease = 0.99\n",
    "p_positive_given_disease = 0.95\n",
    "p_positive_given_no_disease = 0.10\n",
    "p_positive = (p_positive_given_disease * p_disease) + (p_positive_given_no_disease * p_no_disease)\n",
    "\n",
    "p_disease_given_positive = (p_positive_given_disease * p_disease) / p_positive\n",
    "\n",
    "print(\"\\n Bayes' Theorem\")\n",
    "print(f\"P(Positive) = {p_positive:.4f}\")\n",
    "print(f\"P(Disease | Positive) = {p_disease_given_positive:.4f}\")\n"
   ]
  },
  {
   "cell_type": "code",
   "execution_count": 3,
   "id": "31b65aaa-4b87-4eb6-9e2a-e7ed4300a29b",
   "metadata": {},
   "outputs": [
    {
     "name": "stdin",
     "output_type": "stream",
     "text": [
      "Enter the value of x:  2\n"
     ]
    },
    {
     "name": "stdout",
     "output_type": "stream",
     "text": [
      "Function: f(x) = 3*x**2 + 2*x - 5\n",
      "Derivative: f'(x) = 6*x + 2\n",
      "Derivative at x = 2.0: 14.0000000000000\n"
     ]
    }
   ],
   "source": [
    "from sympy import symbols, diff\n",
    "x = symbols('x')\n",
    "f_x = 3*x**2 + 2*x - 5\n",
    "\n",
    "derivative = diff(f_x, x)\n",
    "x_pt = float(input(\"Enter the value of x: \"))\n",
    "der_atpt = derivative.subs(x, x_pt)\n",
    "\n",
    "print(f\"Function: f(x) = {f_x}\")\n",
    "print(f\"Derivative: f'(x) = {derivative}\")\n",
    "print(f\"Derivative at x = {x_pt}: {der_atpt}\")\n"
   ]
  },
  {
   "cell_type": "code",
   "execution_count": 5,
   "id": "af7c1868-8e33-49dc-92ee-c80b97da87aa",
   "metadata": {},
   "outputs": [
    {
     "name": "stdin",
     "output_type": "stream",
     "text": [
      "Enter initial value of x:  2\n"
     ]
    },
    {
     "name": "stdout",
     "output_type": "stream",
     "text": [
      "\n",
      "Final Result\n",
      "Converged after 13 iterations\n",
      "Minimum at x = -0.3333, f(x) = -5.3333\n"
     ]
    }
   ],
   "source": [
    "#Example for gredient discent\n",
    "def f(x):\n",
    "    return 3*x**2 + 2*x - 5\n",
    "\n",
    "def derivative(x):\n",
    "    return 6*x + 2 \n",
    "\n",
    "x = float(input(\"Enter initial value of x: \"))   \n",
    "learning_rate = 0.1                              \n",
    "tolerance = 0.0001                               \n",
    "max_iterations = 1000\n",
    "\n",
    "iteration = 0\n",
    "while abs(derivative(x)) > tolerance and iteration < max_iterations:\n",
    "    x = x - learning_rate * derivative(x)\n",
    "    iteration += 1\n",
    "\n",
    "print(\"\\nFinal Result\")\n",
    "print(f\"Converged after {iteration} iterations\")\n",
    "print(f\"Minimum at x = {x:.4f}, f(x) = {f(x):.4f}\")\n"
   ]
  },
  {
   "cell_type": "code",
   "execution_count": null,
   "id": "5b5b0487-9160-4ebc-b10e-6395150de68d",
   "metadata": {},
   "outputs": [],
   "source": []
  }
 ],
 "metadata": {
  "kernelspec": {
   "display_name": "Python 3 (ipykernel)",
   "language": "python",
   "name": "python3"
  },
  "language_info": {
   "codemirror_mode": {
    "name": "ipython",
    "version": 3
   },
   "file_extension": ".py",
   "mimetype": "text/x-python",
   "name": "python",
   "nbconvert_exporter": "python",
   "pygments_lexer": "ipython3",
   "version": "3.12.4"
  }
 },
 "nbformat": 4,
 "nbformat_minor": 5
}
